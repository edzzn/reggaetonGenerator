{
 "cells": [
  {
   "cell_type": "markdown",
   "metadata": {},
   "source": [
    "# Obtencion de letras de canciones"
   ]
  },
  {
   "cell_type": "markdown",
   "metadata": {},
   "source": [
    "## Importamos la lista de Artistas"
   ]
  },
  {
   "cell_type": "code",
   "execution_count": 8,
   "metadata": {
    "collapsed": true
   },
   "outputs": [],
   "source": [
    "import json\n",
    "import pickle"
   ]
  },
  {
   "cell_type": "code",
   "execution_count": 9,
   "metadata": {
    "collapsed": true
   },
   "outputs": [],
   "source": [
    "json_data=open('artistas.json').read()\n",
    "data_artistas = json.loads(json_data)"
   ]
  },
  {
   "cell_type": "code",
   "execution_count": 10,
   "metadata": {
    "collapsed": true
   },
   "outputs": [],
   "source": [
    "artists = data_artistas[0]['artist']"
   ]
  },
  {
   "cell_type": "code",
   "execution_count": 11,
   "metadata": {
    "collapsed": true
   },
   "outputs": [],
   "source": [
    "lista_artists = [ 'https://www.letras.com' + artista for artista in artists]"
   ]
  },
  {
   "cell_type": "code",
   "execution_count": 12,
   "metadata": {},
   "outputs": [
    {
     "data": {
      "text/plain": [
       "['https://www.letras.com/daddy-yankee/',\n",
       " 'https://www.letras.com/calle-13/',\n",
       " 'https://www.letras.com/vico-c/',\n",
       " 'https://www.letras.com/j-alvarez/',\n",
       " 'https://www.letras.com/maluma/',\n",
       " 'https://www.letras.com/carlos-rivera/',\n",
       " 'https://www.letras.com/macaco/',\n",
       " 'https://www.letras.com/zion-y-lennox/',\n",
       " 'https://www.letras.com/rakim-ken-y/',\n",
       " 'https://www.letras.com/tony-dize/',\n",
       " 'https://www.letras.com/j-balvin/',\n",
       " 'https://www.letras.com/don-omar/',\n",
       " 'https://www.letras.com/farruko/',\n",
       " 'https://www.letras.com/jencarlos-canela/',\n",
       " 'https://www.letras.com/shamanes/',\n",
       " 'https://www.letras.com/alexis-y-fido/',\n",
       " 'https://www.letras.com/alexis-fido/',\n",
       " 'https://www.letras.com/nicky-jam/',\n",
       " 'https://www.letras.com/divino/',\n",
       " 'https://www.letras.com/chino-nacho/',\n",
       " 'https://www.letras.com/dyland-lenny/',\n",
       " 'https://www.letras.com/de-la-ghetto/',\n",
       " 'https://www.letras.com/reykon/',\n",
       " 'https://www.letras.com/la-factoria/',\n",
       " 'https://www.letras.com/arcangel/',\n",
       " 'https://www.letras.com/wisin-yandel/',\n",
       " 'https://www.letras.com/ivy-queen/',\n",
       " 'https://www.letras.com/gente-de-zona/',\n",
       " 'https://www.letras.com/yomo/',\n",
       " 'https://www.letras.com/don-miguelo/',\n",
       " 'https://www.letras.com/las-pelotas/',\n",
       " 'https://www.letras.com/makano/']"
      ]
     },
     "execution_count": 12,
     "metadata": {},
     "output_type": "execute_result"
    }
   ],
   "source": [
    "lista_artists"
   ]
  },
  {
   "cell_type": "code",
   "execution_count": 13,
   "metadata": {
    "scrolled": false
   },
   "outputs": [
    {
     "data": {
      "text/plain": [
       "32"
      ]
     },
     "execution_count": 13,
     "metadata": {},
     "output_type": "execute_result"
    }
   ],
   "source": [
    "len(lista_artists)"
   ]
  },
  {
   "cell_type": "markdown",
   "metadata": {},
   "source": [
    "Gurdamos la lista en formato **pickle**"
   ]
  },
  {
   "cell_type": "code",
   "execution_count": 14,
   "metadata": {
    "collapsed": true
   },
   "outputs": [],
   "source": [
    "with open('lista_artistas.pickle', 'wb') as handle:\n",
    "    pickle.dump(lista_artists, handle, protocol=pickle.HIGHEST_PROTOCOL)"
   ]
  },
  {
   "cell_type": "markdown",
   "metadata": {},
   "source": [
    "## Importamos la lista de canciones"
   ]
  },
  {
   "cell_type": "markdown",
   "metadata": {},
   "source": [
    "run: `scrapy crawl GetSongUrl -o canciones.json`"
   ]
  },
  {
   "cell_type": "code",
   "execution_count": 16,
   "metadata": {},
   "outputs": [],
   "source": [
    "json_data=open('canciones.json').read()\n",
    "data_canciones = json.loads(json_data)"
   ]
  },
  {
   "cell_type": "code",
   "execution_count": 21,
   "metadata": {
    "collapsed": true
   },
   "outputs": [],
   "source": [
    "lista_canciones = []\n",
    "for canciones in data_canciones:\n",
    "#     print(canciones['urls'])\n",
    "    for cancion in canciones['urls']:\n",
    "        lista_canciones.append(cancion)"
   ]
  },
  {
   "cell_type": "code",
   "execution_count": 22,
   "metadata": {},
   "outputs": [],
   "source": [
    "lista_canciones = [ 'https://www.letras.com' + cancion for cancion in lista_canciones]"
   ]
  },
  {
   "cell_type": "code",
   "execution_count": 23,
   "metadata": {
    "scrolled": true
   },
   "outputs": [
    {
     "data": {
      "text/plain": [
       "['https://www.letras.com/daddy-yankee/919375/',\n",
       " 'https://www.letras.com/daddy-yankee/295204/',\n",
       " 'https://www.letras.com/daddy-yankee/131107/',\n",
       " 'https://www.letras.com/daddy-yankee/942260/',\n",
       " 'https://www.letras.com/daddy-yankee/3030/',\n",
       " 'https://www.letras.com/daddy-yankee/6-de-enero/',\n",
       " 'https://www.letras.com/daddy-yankee/1438570/',\n",
       " 'https://www.letras.com/daddy-yankee/1012906/',\n",
       " 'https://www.letras.com/daddy-yankee/490769/',\n",
       " 'https://www.letras.com/daddy-yankee/after-party/',\n",
       " 'https://www.letras.com/daddy-yankee/463252/',\n",
       " 'https://www.letras.com/daddy-yankee/agarrala-pegala-azotala/',\n",
       " 'https://www.letras.com/daddy-yankee/1217959/',\n",
       " 'https://www.letras.com/daddy-yankee/aki-esta-tu-caldo/',\n",
       " 'https://www.letras.com/daddy-yankee/alerta-roja/',\n",
       " 'https://www.letras.com/daddy-yankee/1611866/',\n",
       " 'https://www.letras.com/daddy-yankee/1902104/',\n",
       " 'https://www.letras.com/daddy-yankee/207067/',\n",
       " 'https://www.letras.com/daddy-yankee/1404926/',\n",
       " 'https://www.letras.com/daddy-yankee/388614/',\n",
       " 'https://www.letras.com/daddy-yankee/baby/',\n",
       " 'https://www.letras.com/daddy-yankee/baila-girl-todo-hombre-llorando-por-ti/',\n",
       " 'https://www.letras.com/daddy-yankee/1438571/',\n",
       " 'https://www.letras.com/daddy-yankee/315638/',\n",
       " 'https://www.letras.com/daddy-yankee/bien-comodo/',\n",
       " 'https://www.letras.com/daddy-yankee/1920062/',\n",
       " 'https://www.letras.com/daddy-yankee/1577790/',\n",
       " 'https://www.letras.com/daddy-yankee/bpm/',\n",
       " 'https://www.letras.com/daddy-yankee/1438572/',\n",
       " 'https://www.letras.com/daddy-yankee/1012912/',\n",
       " 'https://www.letras.com/daddy-yankee/315639/',\n",
       " 'https://www.letras.com/daddy-yankee/808506/',\n",
       " 'https://www.letras.com/daddy-yankee/315640/',\n",
       " 'https://www.letras.com/daddy-yankee/1438583/',\n",
       " 'https://www.letras.com/daddy-yankee/calenton-feat-yandel/',\n",
       " 'https://www.letras.com/daddy-yankee/1012904/',\n",
       " 'https://www.letras.com/daddy-yankee/1699389/',\n",
       " 'https://www.letras.com/daddy-yankee/cara-a-cara-tiraera-pa-don-omar/',\n",
       " 'https://www.letras.com/daddy-yankee/830188/',\n",
       " 'https://www.letras.com/daddy-yankee/caseria-de-nenotas-remix/',\n",
       " 'https://www.letras.com/daddy-yankee/1438585/',\n",
       " 'https://www.letras.com/daddy-yankee/1080776/',\n",
       " 'https://www.letras.com/daddy-yankee/chequea-como-se-siente/',\n",
       " 'https://www.letras.com/daddy-yankee/126180/',\n",
       " 'https://www.letras.com/daddy-yankee/come-with-me/',\n",
       " 'https://www.letras.com/daddy-yankee/comienza-el-bellaqueo/',\n",
       " 'https://www.letras.com/daddy-yankee/767971/',\n",
       " 'https://www.letras.com/daddy-yankee/830189/',\n",
       " 'https://www.letras.com/daddy-yankee/1357659/',\n",
       " 'https://www.letras.com/daddy-yankee/1045213/',\n",
       " 'https://www.letras.com/daddy-yankee/179200/',\n",
       " 'https://www.letras.com/daddy-yankee/925370/',\n",
       " 'https://www.letras.com/daddy-yankee/830190/',\n",
       " 'https://www.letras.com/daddy-yankee/131108/',\n",
       " 'https://www.letras.com/daddy-yankee/901620/',\n",
       " 'https://www.letras.com/daddy-yankee/134499/',\n",
       " 'https://www.letras.com/daddy-yankee/830191/',\n",
       " 'https://www.letras.com/daddy-yankee/dame-una-oportunidad/',\n",
       " 'https://www.letras.com/daddy-yankee/1834331/',\n",
       " 'https://www.letras.com/daddy-yankee/1674593/',\n",
       " 'https://www.letras.com/daddy-yankee/de-la-dupleta/',\n",
       " 'https://www.letras.com/daddy-yankee/1357660/',\n",
       " 'https://www.letras.com/daddy-yankee/dejala-caer/',\n",
       " 'https://www.letras.com/daddy-yankee/1609983/',\n",
       " 'https://www.letras.com/daddy-yankee/desafio-ft-don-omar/',\n",
       " 'https://www.letras.com/daddy-yankee/1620172/',\n",
       " 'https://www.letras.com/daddy-yankee/830192/',\n",
       " 'https://www.letras.com/daddy-yankee/despacito-part-luis-fonsi/',\n",
       " 'https://www.letras.com/daddy-yankee/despacito/',\n",
       " 'https://www.letras.com/daddy-yankee/dile/',\n",
       " 'https://www.letras.com/daddy-yankee/dime-que-paso/',\n",
       " 'https://www.letras.com/daddy-yankee/235306/',\n",
       " 'https://www.letras.com/daddy-yankee/1069074/',\n",
       " 'https://www.letras.com/daddy-yankee/830193/',\n",
       " 'https://www.letras.com/daddy-yankee/donde-es-el-party-feat-farruko/',\n",
       " 'https://www.letras.com/daddy-yankee/547316/',\n",
       " 'https://www.letras.com/daddy-yankee/donde-hubo-fuego/',\n",
       " 'https://www.letras.com/daddy-yankee/830194/',\n",
       " 'https://www.letras.com/daddy-yankee/207068/',\n",
       " 'https://www.letras.com/daddy-yankee/427097/',\n",
       " 'https://www.letras.com/daddy-yankee/717751/',\n",
       " 'https://www.letras.com/daddy-yankee/drop-it-on-me-remix/',\n",
       " 'https://www.letras.com/daddy-yankee/1438586/',\n",
       " 'https://www.letras.com/daddy-yankee/el-amante-feat-j-alvarez/',\n",
       " 'https://www.letras.com/daddy-yankee/925371/',\n",
       " 'https://www.letras.com/daddy-yankee/830195/',\n",
       " 'https://www.letras.com/daddy-yankee/830196/',\n",
       " 'https://www.letras.com/daddy-yankee/1012920/',\n",
       " 'https://www.letras.com/daddy-yankee/830197/',\n",
       " 'https://www.letras.com/daddy-yankee/134503/',\n",
       " 'https://www.letras.com/daddy-yankee/830198/',\n",
       " 'https://www.letras.com/daddy-yankee/1438587/',\n",
       " 'https://www.letras.com/daddy-yankee/1698228/',\n",
       " 'https://www.letras.com/daddy-yankee/1674571/',\n",
       " 'https://www.letras.com/daddy-yankee/830199/',\n",
       " 'https://www.letras.com/daddy-yankee/179201/',\n",
       " 'https://www.letras.com/daddy-yankee/1438588/',\n",
       " 'https://www.letras.com/daddy-yankee/1551248/',\n",
       " 'https://www.letras.com/daddy-yankee/1438589/',\n",
       " 'https://www.letras.com/daddy-yankee/434319/']"
      ]
     },
     "execution_count": 23,
     "metadata": {},
     "output_type": "execute_result"
    }
   ],
   "source": [
    "lista_canciones[:100]"
   ]
  },
  {
   "cell_type": "code",
   "execution_count": 24,
   "metadata": {},
   "outputs": [
    {
     "data": {
      "text/plain": [
       "3849"
      ]
     },
     "execution_count": 24,
     "metadata": {},
     "output_type": "execute_result"
    }
   ],
   "source": [
    "len(lista_canciones)"
   ]
  },
  {
   "cell_type": "code",
   "execution_count": 25,
   "metadata": {
    "collapsed": true
   },
   "outputs": [],
   "source": [
    "with open('lista_canciones.pickle', 'wb') as handle:\n",
    "    pickle.dump(lista_canciones, handle, protocol=pickle.HIGHEST_PROTOCOL)"
   ]
  },
  {
   "cell_type": "markdown",
   "metadata": {
    "collapsed": true
   },
   "source": [
    "## Importamos la lista de canciones"
   ]
  },
  {
   "cell_type": "code",
   "execution_count": 53,
   "metadata": {},
   "outputs": [],
   "source": [
    "json_data=open('letras.json').read()\n",
    "data_canciones = json.loads(json_data)"
   ]
  },
  {
   "cell_type": "code",
   "execution_count": 54,
   "metadata": {},
   "outputs": [
    {
     "data": {
      "text/plain": [
       "3849"
      ]
     },
     "execution_count": 54,
     "metadata": {},
     "output_type": "execute_result"
    }
   ],
   "source": [
    "len(data_canciones)"
   ]
  },
  {
   "cell_type": "code",
   "execution_count": 55,
   "metadata": {
    "scrolled": false
   },
   "outputs": [
    {
     "data": {
      "text/plain": [
       "['Ella esta soltera',\n",
       " 'Con sus amigas revuelta',\n",
       " \"Va pa' la disco y\",\n",
       " 'A nadie le rinde cuenta',\n",
       " \"'ta soltera\"]"
      ]
     },
     "execution_count": 55,
     "metadata": {},
     "output_type": "execute_result"
    }
   ],
   "source": [
    "data_canciones[100]['lyrics'][:5]"
   ]
  },
  {
   "cell_type": "markdown",
   "metadata": {},
   "source": [
    "### Buscamos errores en la extracción del texto"
   ]
  },
  {
   "cell_type": "code",
   "execution_count": 56,
   "metadata": {},
   "outputs": [
    {
     "name": "stdout",
     "output_type": "stream",
     "text": [
      "1720\n"
     ]
    }
   ],
   "source": [
    "for key in range(len(data_canciones)):\n",
    "    if data_canciones[key]['lyrics'] == []:\n",
    "        print(key)"
   ]
  },
  {
   "cell_type": "markdown",
   "metadata": {},
   "source": [
    "Casilla 1984 esta vacia, entonces la eliminamos"
   ]
  },
  {
   "cell_type": "code",
   "execution_count": 57,
   "metadata": {},
   "outputs": [
    {
     "data": {
      "text/plain": [
       "[]"
      ]
     },
     "execution_count": 57,
     "metadata": {},
     "output_type": "execute_result"
    }
   ],
   "source": [
    "data_canciones[1720]['lyrics']"
   ]
  },
  {
   "cell_type": "code",
   "execution_count": 58,
   "metadata": {
    "collapsed": true
   },
   "outputs": [],
   "source": [
    "del data_canciones[1720]"
   ]
  },
  {
   "cell_type": "code",
   "execution_count": 59,
   "metadata": {},
   "outputs": [
    {
     "data": {
      "text/plain": [
       "3848"
      ]
     },
     "execution_count": 59,
     "metadata": {},
     "output_type": "execute_result"
    }
   ],
   "source": [
    "len(data_canciones)"
   ]
  },
  {
   "cell_type": "markdown",
   "metadata": {},
   "source": [
    "### Palabra más comun con la que empieza una cancion"
   ]
  },
  {
   "cell_type": "code",
   "execution_count": 63,
   "metadata": {
    "collapsed": true
   },
   "outputs": [],
   "source": [
    "from collections import Counter\n",
    "comienzo_oracion = Counter()"
   ]
  },
  {
   "cell_type": "code",
   "execution_count": 64,
   "metadata": {
    "scrolled": true
   },
   "outputs": [],
   "source": [
    "for key in range(len(data_canciones)):\n",
    "    comienzo_oracion[data_canciones[key]['lyrics'][0].split(' ')[0]] += 1\n",
    "#     print(\"key\", key)"
   ]
  },
  {
   "cell_type": "code",
   "execution_count": 65,
   "metadata": {
    "scrolled": true
   },
   "outputs": [
    {
     "data": {
      "text/plain": [
       "[('Yo', 121),\n",
       " ('No', 83),\n",
       " ('La', 75),\n",
       " ('Si', 60),\n",
       " ('Hoy', 56),\n",
       " ('Me', 56),\n",
       " ('Tu', 49),\n",
       " ('Se', 47),\n",
       " ('Ella', 46),\n",
       " ('El', 45)]"
      ]
     },
     "execution_count": 65,
     "metadata": {},
     "output_type": "execute_result"
    }
   ],
   "source": [
    "comienzo_oracion.most_common()[:10]"
   ]
  },
  {
   "cell_type": "markdown",
   "metadata": {},
   "source": [
    "La palabra más común es **Yo**\n",
    "\n",
    "Tal vez se pueda optener resultados disintos si se elminan los signos de puntiación: \n",
    "Ej: Parentesis, comillas, Signos de exclamación, de pregunta etc"
   ]
  },
  {
   "cell_type": "markdown",
   "metadata": {},
   "source": [
    "### Numero promedio de Lineas en cada canción"
   ]
  },
  {
   "cell_type": "code",
   "execution_count": 66,
   "metadata": {},
   "outputs": [
    {
     "name": "stdout",
     "output_type": "stream",
     "text": [
      "Numero de lineas promedia 69.59797297297297\n"
     ]
    }
   ],
   "source": [
    "num_lineas = []\n",
    "for i, cancion in enumerate(data_canciones):\n",
    "    num_lineas.append(len(data_canciones[i]['lyrics']))\n",
    "    \n",
    "print(\"Numero de lineas promedia {}\".format(sum(num_lineas)/len(num_lineas)))"
   ]
  },
  {
   "cell_type": "code",
   "execution_count": 72,
   "metadata": {},
   "outputs": [
    {
     "name": "stdout",
     "output_type": "stream",
     "text": [
      "['Yo se hacerte algo ', \"Pa' que, mami, te enloquezcas\", 'Te haré sudar, perrear, yakear hasta que amanezca', 'No tengas miedo activalte de pies a cabeza']\n"
     ]
    }
   ],
   "source": [
    "primera_cancion = data_canciones[0]['lyrics'][:4]\n",
    "print(primera_cancion)"
   ]
  },
  {
   "cell_type": "markdown",
   "metadata": {},
   "source": [
    "El texto para entrenar debe estar de la siguiente manera:\n",
    "\n",
    "\n",
    " letra_primera_canción_linea1 \\n *(salto de linea)*\n",
    " letra_primera_canción_linea2 \\n *(salto de linea)*\n",
    " letra_primera_canción_linea3 \\n *(salto de linea)*\n",
    " letra_primera_canción_linea4 \\n *(salto de linea)*\n",
    " letra_primera_canción_linea5 \\n *(salto de linea)*\n",
    " \\n\\n *(Doble salto de linea indica el final de la cancion)*\n",
    "\n",
    " letra_segunda_canción_linea1 \\n *(salto de linea)*\n",
    " letra_segunda_canción_linea2 \\n *(salto de linea)*\n",
    " letra_segunda_canción_linea3 \\n *(salto de linea)*\n",
    " letra_segunda_canción_linea4 \\n *(salto de linea)*\n",
    " letra_segunda_canción_linea5 \\n *(salto de linea)*\n",
    "\n",
    " ....\n",
    " ...."
   ]
  },
  {
   "cell_type": "code",
   "execution_count": 70,
   "metadata": {
    "scrolled": true
   },
   "outputs": [
    {
     "data": {
      "text/plain": [
       "\"Baby the sexy that lives in me\\nIt's not illegal but it should be, be, be\\nAnd I know that you see it, you want it, you need it\\nAnd boy you better impress me, impress me\""
      ]
     },
     "execution_count": 70,
     "metadata": {},
     "output_type": "execute_result"
    }
   ],
   "source": [
    "('\\n').join(primera_cancion)"
   ]
  },
  {
   "cell_type": "code",
   "execution_count": 71,
   "metadata": {
    "collapsed": true
   },
   "outputs": [],
   "source": [
    "with open(\"letrasFinal.txt\", \"w\") as text_file:\n",
    "    \n",
    "    for cancion in data_canciones:\n",
    "        letras_formateada = cancion['lyrics']\n",
    "        letras_formateada = ('\\n').join(letras_formateada)\n",
    "        text_file.write(letras_formateada + '\\n\\n')"
   ]
  },
  {
   "cell_type": "code",
   "execution_count": null,
   "metadata": {
    "collapsed": true
   },
   "outputs": [],
   "source": []
  }
 ],
 "metadata": {
  "kernelspec": {
   "display_name": "Python 3",
   "language": "python",
   "name": "python3"
  },
  "language_info": {
   "codemirror_mode": {
    "name": "ipython",
    "version": 3
   },
   "file_extension": ".py",
   "mimetype": "text/x-python",
   "name": "python",
   "nbconvert_exporter": "python",
   "pygments_lexer": "ipython3",
   "version": "3.5.4"
  }
 },
 "nbformat": 4,
 "nbformat_minor": 2
}
