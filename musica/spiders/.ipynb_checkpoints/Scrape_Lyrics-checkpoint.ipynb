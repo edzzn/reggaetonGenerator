{
 "cells": [
  {
   "cell_type": "markdown",
   "metadata": {},
   "source": [
    "# Obtencion de letras de canciones"
   ]
  },
  {
   "cell_type": "markdown",
   "metadata": {},
   "source": [
    "## Importamos la lista de Artistas"
   ]
  },
  {
   "cell_type": "code",
   "execution_count": 1,
   "metadata": {
    "collapsed": true
   },
   "outputs": [],
   "source": [
    "import json\n",
    "import pickle"
   ]
  },
  {
   "cell_type": "code",
   "execution_count": 3,
   "metadata": {},
   "outputs": [],
   "source": [
    "json_data=open('..//..//artistas.json').read()\n",
    "data_artistas = json.loads(json_data)"
   ]
  },
  {
   "cell_type": "code",
   "execution_count": 4,
   "metadata": {
    "collapsed": true
   },
   "outputs": [],
   "source": [
    "artists = data_artistas[0]['artist']"
   ]
  },
  {
   "cell_type": "code",
   "execution_count": 5,
   "metadata": {
    "collapsed": true
   },
   "outputs": [],
   "source": [
    "lista_artistas = [ 'https://www.letras.com' + artista for artista in artists]"
   ]
  },
  {
   "cell_type": "code",
   "execution_count": 6,
   "metadata": {
    "scrolled": true
   },
   "outputs": [
    {
     "data": {
      "text/plain": [
       "['https://www.letras.com/daddy-yankee/',\n",
       " 'https://www.letras.com/calle-13/',\n",
       " 'https://www.letras.com/vico-c/',\n",
       " 'https://www.letras.com/j-alvarez/',\n",
       " 'https://www.letras.com/maluma/',\n",
       " 'https://www.letras.com/carlos-rivera/',\n",
       " 'https://www.letras.com/macaco/',\n",
       " 'https://www.letras.com/zion-y-lennox/',\n",
       " 'https://www.letras.com/rakim-ken-y/',\n",
       " 'https://www.letras.com/tony-dize/',\n",
       " 'https://www.letras.com/j-balvin/',\n",
       " 'https://www.letras.com/don-omar/',\n",
       " 'https://www.letras.com/farruko/',\n",
       " 'https://www.letras.com/jencarlos-canela/',\n",
       " 'https://www.letras.com/shamanes/',\n",
       " 'https://www.letras.com/alexis-y-fido/',\n",
       " 'https://www.letras.com/alexis-fido/',\n",
       " 'https://www.letras.com/nicky-jam/',\n",
       " 'https://www.letras.com/divino/',\n",
       " 'https://www.letras.com/chino-nacho/',\n",
       " 'https://www.letras.com/dyland-lenny/',\n",
       " 'https://www.letras.com/de-la-ghetto/',\n",
       " 'https://www.letras.com/reykon/',\n",
       " 'https://www.letras.com/la-factoria/',\n",
       " 'https://www.letras.com/arcangel/',\n",
       " 'https://www.letras.com/wisin-yandel/',\n",
       " 'https://www.letras.com/ivy-queen/',\n",
       " 'https://www.letras.com/gente-de-zona/',\n",
       " 'https://www.letras.com/yomo/',\n",
       " 'https://www.letras.com/don-miguelo/',\n",
       " 'https://www.letras.com/las-pelotas/',\n",
       " 'https://www.letras.com/makano/']"
      ]
     },
     "execution_count": 6,
     "metadata": {},
     "output_type": "execute_result"
    }
   ],
   "source": [
    "lista_artistas"
   ]
  },
  {
   "cell_type": "code",
   "execution_count": 6,
   "metadata": {
    "scrolled": false
   },
   "outputs": [
    {
     "data": {
      "text/plain": [
       "32"
      ]
     },
     "execution_count": 6,
     "metadata": {},
     "output_type": "execute_result"
    }
   ],
   "source": [
    "len(lista_artistas)"
   ]
  },
  {
   "cell_type": "markdown",
   "metadata": {},
   "source": [
    "Gurdamos la lista en formato **pickle**"
   ]
  },
  {
   "cell_type": "code",
   "execution_count": 10,
   "metadata": {},
   "outputs": [],
   "source": [
    "with open('..//..//lista_artistas.pickle', 'rb') as handle:\n",
    "    lista_artistas = pickle.load(handle)"
   ]
  },
  {
   "cell_type": "code",
   "execution_count": 7,
   "metadata": {
    "collapsed": true
   },
   "outputs": [],
   "source": [
    "with open('lista_artistas.pickle', 'wb') as handle:\n",
    "    pickle.dump(lista_artistas, handle, protocol=pickle.HIGHEST_PROTOCOL)"
   ]
  },
  {
   "cell_type": "markdown",
   "metadata": {},
   "source": [
    "## Importamos la lista de canciones"
   ]
  },
  {
   "cell_type": "code",
   "execution_count": 8,
   "metadata": {},
   "outputs": [
    {
     "ename": "FileNotFoundError",
     "evalue": "[Errno 2] No such file or directory: 'canciones.json'",
     "output_type": "error",
     "traceback": [
      "\u001b[0;31m---------------------------------------------------------------------------\u001b[0m",
      "\u001b[0;31mFileNotFoundError\u001b[0m                         Traceback (most recent call last)",
      "\u001b[0;32m<ipython-input-8-84fa20b8bac1>\u001b[0m in \u001b[0;36m<module>\u001b[0;34m()\u001b[0m\n\u001b[0;32m----> 1\u001b[0;31m \u001b[0mjson_data\u001b[0m\u001b[0;34m=\u001b[0m\u001b[0mopen\u001b[0m\u001b[0;34m(\u001b[0m\u001b[0;34m'canciones.json'\u001b[0m\u001b[0;34m)\u001b[0m\u001b[0;34m.\u001b[0m\u001b[0mread\u001b[0m\u001b[0;34m(\u001b[0m\u001b[0;34m)\u001b[0m\u001b[0;34m\u001b[0m\u001b[0m\n\u001b[0m\u001b[1;32m      2\u001b[0m \u001b[0mdata_canciones\u001b[0m \u001b[0;34m=\u001b[0m \u001b[0mjson\u001b[0m\u001b[0;34m.\u001b[0m\u001b[0mloads\u001b[0m\u001b[0;34m(\u001b[0m\u001b[0mjson_data\u001b[0m\u001b[0;34m)\u001b[0m\u001b[0;34m\u001b[0m\u001b[0m\n",
      "\u001b[0;31mFileNotFoundError\u001b[0m: [Errno 2] No such file or directory: 'canciones.json'"
     ]
    }
   ],
   "source": [
    "json_data=open('canciones.json').read()\n",
    "data_canciones = json.loads(json_data)"
   ]
  },
  {
   "cell_type": "code",
   "execution_count": null,
   "metadata": {
    "collapsed": true
   },
   "outputs": [],
   "source": [
    "lista_canciones = []\n",
    "for canciones in data_canciones:\n",
    "#     print(canciones['urls'])\n",
    "    for cancion in canciones['urls']:\n",
    "        print(cancion)\n",
    "        lista_canciones.append(cancion)"
   ]
  },
  {
   "cell_type": "code",
   "execution_count": null,
   "metadata": {
    "collapsed": true
   },
   "outputs": [],
   "source": [
    "lista_canciones = [ 'https://www.letras.com' + cancion for cancion in lista_canciones]"
   ]
  },
  {
   "cell_type": "code",
   "execution_count": null,
   "metadata": {
    "collapsed": true
   },
   "outputs": [],
   "source": [
    "len(lista_canciones)"
   ]
  },
  {
   "cell_type": "code",
   "execution_count": null,
   "metadata": {
    "collapsed": true
   },
   "outputs": [],
   "source": [
    "with open('lista_canciones.pickle', 'wb') as handle:\n",
    "    pickle.dump(lista_canciones, handle, protocol=pickle.HIGHEST_PROTOCOL)"
   ]
  },
  {
   "cell_type": "code",
   "execution_count": null,
   "metadata": {
    "collapsed": true
   },
   "outputs": [],
   "source": []
  }
 ],
 "metadata": {
  "kernelspec": {
   "display_name": "Python [default]",
   "language": "python",
   "name": "python3"
  },
  "language_info": {
   "codemirror_mode": {
    "name": "ipython",
    "version": 3
   },
   "file_extension": ".py",
   "mimetype": "text/x-python",
   "name": "python",
   "nbconvert_exporter": "python",
   "pygments_lexer": "ipython3",
   "version": "3.6.2"
  }
 },
 "nbformat": 4,
 "nbformat_minor": 2
}
