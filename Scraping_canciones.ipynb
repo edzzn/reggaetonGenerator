{
 "cells": [
  {
   "cell_type": "markdown",
   "metadata": {},
   "source": [
    "# Obtencion de letras de canciones"
   ]
  },
  {
   "cell_type": "markdown",
   "metadata": {},
   "source": [
    "## Importamos la lista de Artistas"
   ]
  },
  {
   "cell_type": "code",
   "execution_count": 1,
   "metadata": {
    "collapsed": true
   },
   "outputs": [],
   "source": [
    "import json\n",
    "import pickle"
   ]
  },
  {
   "cell_type": "code",
   "execution_count": 2,
   "metadata": {
    "collapsed": true
   },
   "outputs": [],
   "source": [
    "json_data=open('artistas.json').read()\n",
    "data_artistas = json.loads(json_data)"
   ]
  },
  {
   "cell_type": "code",
   "execution_count": 3,
   "metadata": {
    "collapsed": true
   },
   "outputs": [],
   "source": [
    "artists = data_artistas[0]['artist']"
   ]
  },
  {
   "cell_type": "code",
   "execution_count": 4,
   "metadata": {
    "collapsed": true
   },
   "outputs": [],
   "source": [
    "lista_artists = [ 'https://www.letras.com' + artista for artista in artists]"
   ]
  },
  {
   "cell_type": "code",
   "execution_count": 5,
   "metadata": {},
   "outputs": [
    {
     "data": {
      "text/plain": [
       "['https://www.letras.com/daddy-yankee/',\n",
       " 'https://www.letras.com/calle-13/',\n",
       " 'https://www.letras.com/vico-c/',\n",
       " 'https://www.letras.com/j-alvarez/',\n",
       " 'https://www.letras.com/maluma/',\n",
       " 'https://www.letras.com/carlos-rivera/',\n",
       " 'https://www.letras.com/macaco/',\n",
       " 'https://www.letras.com/zion-y-lennox/',\n",
       " 'https://www.letras.com/rakim-ken-y/',\n",
       " 'https://www.letras.com/tony-dize/']"
      ]
     },
     "execution_count": 5,
     "metadata": {},
     "output_type": "execute_result"
    }
   ],
   "source": [
    "lista_artists[:10]"
   ]
  },
  {
   "cell_type": "code",
   "execution_count": 6,
   "metadata": {
    "scrolled": false
   },
   "outputs": [
    {
     "data": {
      "text/plain": [
       "32"
      ]
     },
     "execution_count": 6,
     "metadata": {},
     "output_type": "execute_result"
    }
   ],
   "source": [
    "len(lista_artists)"
   ]
  },
  {
   "cell_type": "markdown",
   "metadata": {},
   "source": [
    "Gurdamos la lista en formato **pickle**"
   ]
  },
  {
   "cell_type": "code",
   "execution_count": 7,
   "metadata": {
    "collapsed": true
   },
   "outputs": [],
   "source": [
    "with open('lista_artistas.pickle', 'wb') as handle:\n",
    "    pickle.dump(lista_artists, handle, protocol=pickle.HIGHEST_PROTOCOL)"
   ]
  },
  {
   "cell_type": "markdown",
   "metadata": {},
   "source": [
    "## Importamos la lista de canciones"
   ]
  },
  {
   "cell_type": "code",
   "execution_count": 8,
   "metadata": {
    "collapsed": true
   },
   "outputs": [],
   "source": [
    "json_data=open('canciones.json').read()\n",
    "data_canciones = json.loads(json_data)"
   ]
  },
  {
   "cell_type": "code",
   "execution_count": 9,
   "metadata": {
    "collapsed": true
   },
   "outputs": [],
   "source": [
    "lista_canciones = []\n",
    "for canciones in data_canciones:\n",
    "#     print(canciones['urls'])\n",
    "    for cancion in canciones['urls']:\n",
    "        lista_canciones.append(cancion)"
   ]
  },
  {
   "cell_type": "code",
   "execution_count": 10,
   "metadata": {
    "collapsed": true
   },
   "outputs": [],
   "source": [
    "lista_canciones = [ 'https://www.letras.com' + cancion for cancion in lista_canciones]"
   ]
  },
  {
   "cell_type": "code",
   "execution_count": 11,
   "metadata": {
    "scrolled": true
   },
   "outputs": [
    {
     "data": {
      "text/plain": [
       "['https://www.letras.com/daddy-yankee/919375/',\n",
       " 'https://www.letras.com/daddy-yankee/295204/',\n",
       " 'https://www.letras.com/daddy-yankee/131107/',\n",
       " 'https://www.letras.com/daddy-yankee/942260/',\n",
       " 'https://www.letras.com/daddy-yankee/3030/',\n",
       " 'https://www.letras.com/daddy-yankee/6-de-enero/',\n",
       " 'https://www.letras.com/daddy-yankee/1438570/',\n",
       " 'https://www.letras.com/daddy-yankee/1012906/',\n",
       " 'https://www.letras.com/daddy-yankee/490769/',\n",
       " 'https://www.letras.com/daddy-yankee/after-party/']"
      ]
     },
     "execution_count": 11,
     "metadata": {},
     "output_type": "execute_result"
    }
   ],
   "source": [
    "lista_canciones[:10]"
   ]
  },
  {
   "cell_type": "code",
   "execution_count": 12,
   "metadata": {},
   "outputs": [
    {
     "data": {
      "text/plain": [
       "3847"
      ]
     },
     "execution_count": 12,
     "metadata": {},
     "output_type": "execute_result"
    }
   ],
   "source": [
    "len(lista_canciones)"
   ]
  },
  {
   "cell_type": "code",
   "execution_count": 13,
   "metadata": {
    "collapsed": true
   },
   "outputs": [],
   "source": [
    "with open('lista_canciones.pickle', 'wb') as handle:\n",
    "    pickle.dump(lista_canciones, handle, protocol=pickle.HIGHEST_PROTOCOL)"
   ]
  },
  {
   "cell_type": "markdown",
   "metadata": {
    "collapsed": true
   },
   "source": [
    "## Importamos la lista de canciones"
   ]
  },
  {
   "cell_type": "code",
   "execution_count": 161,
   "metadata": {
    "collapsed": true
   },
   "outputs": [],
   "source": [
    "json_data=open('letras.json').read()\n",
    "data_canciones = json.loads(json_data)"
   ]
  },
  {
   "cell_type": "code",
   "execution_count": 162,
   "metadata": {},
   "outputs": [
    {
     "data": {
      "text/plain": [
       "3846"
      ]
     },
     "execution_count": 162,
     "metadata": {},
     "output_type": "execute_result"
    }
   ],
   "source": [
    "len(data_canciones)"
   ]
  },
  {
   "cell_type": "code",
   "execution_count": 163,
   "metadata": {
    "scrolled": false
   },
   "outputs": [
    {
     "data": {
      "text/plain": [
       "['Coming from the shadow of the island!',\n",
       " 'We are Winchester Yankee and Nas Escobar!',\n",
       " \"Pablo, what's up, pa'?\",\n",
       " 'Treinta-treinta (30/30), 70mm metras',\n",
       " 'Es letal, violenta']"
      ]
     },
     "execution_count": 163,
     "metadata": {},
     "output_type": "execute_result"
    }
   ],
   "source": [
    "data_canciones[5]['lyrics'][:5]"
   ]
  },
  {
   "cell_type": "markdown",
   "metadata": {},
   "source": [
    "### Buscamos errores en la extracción del texto"
   ]
  },
  {
   "cell_type": "code",
   "execution_count": 164,
   "metadata": {},
   "outputs": [
    {
     "name": "stdout",
     "output_type": "stream",
     "text": [
      "1984\n"
     ]
    }
   ],
   "source": [
    "for key in range(len(data_canciones)):\n",
    "    if data_canciones[key]['lyrics'] == []:\n",
    "        print(key)"
   ]
  },
  {
   "cell_type": "markdown",
   "metadata": {},
   "source": [
    "Casilla 1984 esta vacia, entonces la eliminamos"
   ]
  },
  {
   "cell_type": "code",
   "execution_count": 165,
   "metadata": {},
   "outputs": [
    {
     "data": {
      "text/plain": [
       "[]"
      ]
     },
     "execution_count": 165,
     "metadata": {},
     "output_type": "execute_result"
    }
   ],
   "source": [
    "data_canciones[1984]['lyrics']"
   ]
  },
  {
   "cell_type": "code",
   "execution_count": 166,
   "metadata": {
    "collapsed": true
   },
   "outputs": [],
   "source": [
    "del data_canciones[1984]"
   ]
  },
  {
   "cell_type": "code",
   "execution_count": 167,
   "metadata": {},
   "outputs": [
    {
     "data": {
      "text/plain": [
       "3845"
      ]
     },
     "execution_count": 167,
     "metadata": {},
     "output_type": "execute_result"
    }
   ],
   "source": [
    "len(data_canciones)"
   ]
  },
  {
   "cell_type": "markdown",
   "metadata": {},
   "source": [
    "### Palabra más comun con la que empieza una cancion"
   ]
  },
  {
   "cell_type": "code",
   "execution_count": 175,
   "metadata": {
    "collapsed": true
   },
   "outputs": [],
   "source": [
    "from collections import Counter\n",
    "comienzo_oracion = Counter()"
   ]
  },
  {
   "cell_type": "code",
   "execution_count": 178,
   "metadata": {
    "scrolled": true
   },
   "outputs": [],
   "source": [
    "for key in range(len(data_canciones)):\n",
    "    comienzo_oracion[data_canciones[key]['lyrics'][0].split(' ')[0]] += 1\n",
    "#     print(\"key\", key)"
   ]
  },
  {
   "cell_type": "code",
   "execution_count": 196,
   "metadata": {
    "scrolled": true
   },
   "outputs": [
    {
     "data": {
      "text/plain": [
       "[('Bye,', 1),\n",
       " ('Adivina', 1),\n",
       " ('ma...', 1),\n",
       " ('Ta', 1),\n",
       " ('Luis', 1),\n",
       " ('Besos', 1),\n",
       " ('Salen', 1),\n",
       " ('coro:duro', 1),\n",
       " ('Olha', 1),\n",
       " ('Oye!', 1),\n",
       " ('oye', 1),\n",
       " ('Échale', 1),\n",
       " ('Memo!', 1),\n",
       " ('Interpretes', 1),\n",
       " ('Relájate,', 1),\n",
       " ('FLow', 1),\n",
       " ('[Jay-Z]', 1),\n",
       " ('Les', 1),\n",
       " ('(rihanna)', 1),\n",
       " ('Reeeemiiiiiix', 1),\n",
       " ('Princesa,', 1),\n",
       " ('My', 1),\n",
       " ('(jory)', 1),\n",
       " ('Bienvenido', 1),\n",
       " ('Hagan', 1),\n",
       " ('santana', 1),\n",
       " ('Joey', 1),\n",
       " ('{LET', 1),\n",
       " ('Yomo:', 1),\n",
       " ('Sony...', 1),\n",
       " ('Víctor', 1),\n",
       " ('Oye…', 1),\n",
       " ('Memo...Si', 1),\n",
       " ('Coro..', 1),\n",
       " ('O.G.', 1),\n",
       " ('Blas', 1),\n",
       " ('Shhh,', 1),\n",
       " ('Olle,', 1),\n",
       " ('Relajate,', 1),\n",
       " ('Doblen', 1),\n",
       " ('Memo...', 1),\n",
       " ('Pasará,', 1),\n",
       " ('Tiempo', 1),\n",
       " ('Recién', 1),\n",
       " ('Moviéndose,', 1),\n",
       " ('Llenaste', 1),\n",
       " ('Trátanos', 1),\n",
       " ('Desaparecido', 1),\n",
       " ('Noticiero', 1),\n",
       " ('Tomando', 1),\n",
       " ('Reflejadas', 1),\n",
       " ('Aprendí', 1),\n",
       " ('Voces', 1),\n",
       " ('Girando', 1),\n",
       " ('Lejos', 1),\n",
       " ('Cuidando', 1),\n",
       " ('Casi', 1),\n",
       " ('Tratando', 1),\n",
       " ('Aberdeen', 1),\n",
       " ('Luna', 1),\n",
       " ('Vuelvo', 1),\n",
       " ('Mareada', 1),\n",
       " ('Más', 1),\n",
       " ('Solo,', 1),\n",
       " ('Movete', 1),\n",
       " ('Caminas', 1),\n",
       " ('Salí', 1),\n",
       " ('Soberbia', 1),\n",
       " ('Pasillos', 1),\n",
       " ('Bien,', 1),\n",
       " ('Miro', 1),\n",
       " ('Viendo', 1),\n",
       " ('Saben,', 1),\n",
       " ('Saltando', 1),\n",
       " ('Rey', 1),\n",
       " ('Senderos', 1),\n",
       " ('Estamos', 1),\n",
       " ('¿Donde', 1),\n",
       " ('Sueños', 1),\n",
       " ('Calla,', 1),\n",
       " ('Viejas', 1),\n",
       " ('Now', 1),\n",
       " ('Despomate', 1),\n",
       " ('Quien', 1),\n",
       " ('Exigele', 1),\n",
       " ('Reconosco', 1),\n",
       " ('Hola,', 1),\n",
       " ('Uo', 1),\n",
       " ('uuuh', 1),\n",
       " ('Sabes.yo', 1),\n",
       " ('Pesadilla', 1),\n",
       " ('Al', 1),\n",
       " ('Kathy', 1),\n",
       " ('hola', 1),\n",
       " ('Nanana', 1),\n",
       " ('perdoname', 1),\n",
       " ('Amooor', 1),\n",
       " ('Despojate', 1),\n",
       " ('Traicionera', 1),\n",
       " ('Amor........(3veces)', 1)]"
      ]
     },
     "execution_count": 196,
     "metadata": {},
     "output_type": "execute_result"
    }
   ],
   "source": [
    "comienzo_oracion.most_common()[-100:]"
   ]
  },
  {
   "cell_type": "markdown",
   "metadata": {},
   "source": [
    "La palabra más común es **Yo**\n",
    "\n",
    "Tal vez se pueda optener resultados disintos si se elminan los signos de puntiación: \n",
    "Ej: Parentesis, comillas, Signos de exclamación, de pregunta etc"
   ]
  },
  {
   "cell_type": "markdown",
   "metadata": {},
   "source": [
    "### Numero promedio de Lineas en cada canción"
   ]
  },
  {
   "cell_type": "code",
   "execution_count": 197,
   "metadata": {},
   "outputs": [
    {
     "name": "stdout",
     "output_type": "stream",
     "text": [
      "Numero de lineas promedia 69.65227568270481\n"
     ]
    }
   ],
   "source": [
    "num_lineas = []\n",
    "for i, cancion in enumerate(data_canciones):\n",
    "    num_lineas.append(len(data_canciones[i]['lyrics']))\n",
    "    \n",
    "print(\"Numero de lineas promedia {}\".format(sum(num_lineas)/len(num_lineas)))"
   ]
  },
  {
   "cell_type": "code",
   "execution_count": 198,
   "metadata": {},
   "outputs": [
    {
     "name": "stdout",
     "output_type": "stream",
     "text": [
      "['Mami no creas que aquí se juega', 'Hoy la discoteca está caliente', 'Mucho movimiento de cadera', 'El bambino se te pega']\n"
     ]
    }
   ],
   "source": [
    "primera_cancion = data_canciones[42]['lyrics'][:4]\n",
    "print(primera_cancion)"
   ]
  },
  {
   "cell_type": "markdown",
   "metadata": {},
   "source": [
    "El texto para entrenar debe estar de la siguiente manera:\n",
    "\n",
    "\n",
    " letra_primera_canción_linea1 \\n *(salto de linea)*\n",
    " letra_primera_canción_linea2 \\n *(salto de linea)*\n",
    " letra_primera_canción_linea3 \\n *(salto de linea)*\n",
    " letra_primera_canción_linea4 \\n *(salto de linea)*\n",
    " letra_primera_canción_linea5 \\n *(salto de linea)*\n",
    " \\n\\n *(Doble salto de linea indica el final de la cancion)*\n",
    "\n",
    " letra_segunda_canción_linea1 \\n *(salto de linea)*\n",
    " letra_segunda_canción_linea2 \\n *(salto de linea)*\n",
    " letra_segunda_canción_linea3 \\n *(salto de linea)*\n",
    " letra_segunda_canción_linea4 \\n *(salto de linea)*\n",
    " letra_segunda_canción_linea5 \\n *(salto de linea)*\n",
    "\n",
    " ....\n",
    " ...."
   ]
  },
  {
   "cell_type": "code",
   "execution_count": 22,
   "metadata": {
    "scrolled": true
   },
   "outputs": [
    {
     "data": {
      "text/plain": [
       "'Mami no creas que aquí se juega\\nHoy la discoteca está caliente\\nMucho movimiento de cadera\\nEl bambino se te pega'"
      ]
     },
     "execution_count": 22,
     "metadata": {},
     "output_type": "execute_result"
    }
   ],
   "source": [
    "('\\n').join(primera_cancion)"
   ]
  },
  {
   "cell_type": "code",
   "execution_count": 20,
   "metadata": {
    "collapsed": true
   },
   "outputs": [],
   "source": [
    "with open(\"letrasFinal.txt\", \"w\") as text_file:\n",
    "    \n",
    "    for cancion in data_canciones:\n",
    "        letras_formateada = cancion['lyrics']\n",
    "        letras_formateada = ('\\n').join(letras_formateada)\n",
    "        text_file.write(letras_formateada + '\\n\\n')"
   ]
  },
  {
   "cell_type": "code",
   "execution_count": null,
   "metadata": {
    "collapsed": true
   },
   "outputs": [],
   "source": []
  }
 ],
 "metadata": {
  "kernelspec": {
   "display_name": "Python [default]",
   "language": "python",
   "name": "python3"
  },
  "language_info": {
   "codemirror_mode": {
    "name": "ipython",
    "version": 3
   },
   "file_extension": ".py",
   "mimetype": "text/x-python",
   "name": "python",
   "nbconvert_exporter": "python",
   "pygments_lexer": "ipython3",
   "version": "3.6.2"
  }
 },
 "nbformat": 4,
 "nbformat_minor": 2
}
